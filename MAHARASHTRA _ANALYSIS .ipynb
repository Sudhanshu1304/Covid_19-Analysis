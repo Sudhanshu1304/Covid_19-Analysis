{
 "cells": [
  {
   "cell_type": "markdown",
   "metadata": {},
   "source": [
    "# MAHARASHTRA COVID ANALYSIS"
   ]
  },
  {
   "cell_type": "code",
   "execution_count": 1,
   "metadata": {},
   "outputs": [],
   "source": [
    "import pandas as pd\n",
    "import numpy as np\n",
    "import matplotlib.pyplot as plt\n",
    "import seaborn as sns\n",
    "sns.set()\n"
   ]
  },
  {
   "cell_type": "markdown",
   "metadata": {},
   "source": [
    "# DATA PREPROCESSING"
   ]
  },
  {
   "cell_type": "code",
   "execution_count": 2,
   "metadata": {},
   "outputs": [],
   "source": [
    "data=pd.read_csv(\"D:/User/Desktop/Covid_Data/covid_19_india.csv\")\n",
    "data2=pd.read_csv('D:/User/Desktop/Covid_Data/StatewiseTestingDetails.csv')"
   ]
  },
  {
   "cell_type": "code",
   "execution_count": 3,
   "metadata": {
    "scrolled": true
   },
   "outputs": [
    {
     "data": {
      "text/plain": [
       "Kerala                                      55\n",
       "West Bengal                                 51\n",
       "Odisha                                      51\n",
       "Haryana                                     50\n",
       "Madhya Pradesh                              50\n",
       "Maharashtra                                 50\n",
       "Karnataka                                   50\n",
       "Rajasthan                                   50\n",
       "Uttar Pradesh                               49\n",
       "Tamil Nadu                                  49\n",
       "Bihar                                       49\n",
       "Uttarakhand                                 49\n",
       "Punjab                                      48\n",
       "Chandigarh                                  47\n",
       "Delhi                                       47\n",
       "Gujarat                                     47\n",
       "Jammu and Kashmir                           47\n",
       "Andhra Pradesh                              46\n",
       "Mizoram                                     45\n",
       "Himachal Pradesh                            45\n",
       "Nagaland                                    44\n",
       "Jharkhand                                   43\n",
       "Goa                                         41\n",
       "Chhattisgarh                                40\n",
       "Arunachal Pradesh                           37\n",
       "Puducherry                                  37\n",
       "Assam                                       36\n",
       "Tripura                                     30\n",
       "Meghalaya                                   26\n",
       "Dadra and Nagar Haveli and Daman and Diu    23\n",
       "Ladakh                                      22\n",
       "Sikkim                                      21\n",
       "Manipur                                     14\n",
       "Andaman and Nicobar Islands                  6\n",
       "Telangana                                    4\n",
       "Name: State, dtype: int64"
      ]
     },
     "execution_count": 3,
     "metadata": {},
     "output_type": "execute_result"
    }
   ],
   "source": [
    "data2['State'].value_counts()"
   ]
  },
  {
   "cell_type": "code",
   "execution_count": 4,
   "metadata": {},
   "outputs": [],
   "source": [
    "mdata2=data2[data2['State']=='Maharashtra']"
   ]
  },
  {
   "cell_type": "code",
   "execution_count": 5,
   "metadata": {},
   "outputs": [
    {
     "data": {
      "text/html": [
       "<div>\n",
       "<style scoped>\n",
       "    .dataframe tbody tr th:only-of-type {\n",
       "        vertical-align: middle;\n",
       "    }\n",
       "\n",
       "    .dataframe tbody tr th {\n",
       "        vertical-align: top;\n",
       "    }\n",
       "\n",
       "    .dataframe thead th {\n",
       "        text-align: right;\n",
       "    }\n",
       "</style>\n",
       "<table border=\"1\" class=\"dataframe\">\n",
       "  <thead>\n",
       "    <tr style=\"text-align: right;\">\n",
       "      <th></th>\n",
       "      <th>Date</th>\n",
       "      <th>State</th>\n",
       "      <th>TotalSamples</th>\n",
       "      <th>Negative</th>\n",
       "      <th>Positive</th>\n",
       "    </tr>\n",
       "  </thead>\n",
       "  <tbody>\n",
       "    <tr>\n",
       "      <td>826</td>\n",
       "      <td>5/21/2020</td>\n",
       "      <td>Maharashtra</td>\n",
       "      <td>319921</td>\n",
       "      <td>276369.0</td>\n",
       "      <td>39297.0</td>\n",
       "    </tr>\n",
       "    <tr>\n",
       "      <td>827</td>\n",
       "      <td>5/22/2020</td>\n",
       "      <td>Maharashtra</td>\n",
       "      <td>333087</td>\n",
       "      <td>286157.0</td>\n",
       "      <td>41642.0</td>\n",
       "    </tr>\n",
       "    <tr>\n",
       "      <td>828</td>\n",
       "      <td>5/23/2020</td>\n",
       "      <td>Maharashtra</td>\n",
       "      <td>348932</td>\n",
       "      <td>299107.0</td>\n",
       "      <td>44582.0</td>\n",
       "    </tr>\n",
       "    <tr>\n",
       "      <td>829</td>\n",
       "      <td>5/24/2020</td>\n",
       "      <td>Maharashtra</td>\n",
       "      <td>363470</td>\n",
       "      <td>310565.0</td>\n",
       "      <td>47190.0</td>\n",
       "    </tr>\n",
       "    <tr>\n",
       "      <td>830</td>\n",
       "      <td>5/25/2020</td>\n",
       "      <td>Maharashtra</td>\n",
       "      <td>379185</td>\n",
       "      <td>323937.0</td>\n",
       "      <td>50231.0</td>\n",
       "    </tr>\n",
       "  </tbody>\n",
       "</table>\n",
       "</div>"
      ],
      "text/plain": [
       "          Date        State  TotalSamples  Negative  Positive\n",
       "826  5/21/2020  Maharashtra        319921  276369.0   39297.0\n",
       "827  5/22/2020  Maharashtra        333087  286157.0   41642.0\n",
       "828  5/23/2020  Maharashtra        348932  299107.0   44582.0\n",
       "829  5/24/2020  Maharashtra        363470  310565.0   47190.0\n",
       "830  5/25/2020  Maharashtra        379185  323937.0   50231.0"
      ]
     },
     "execution_count": 5,
     "metadata": {},
     "output_type": "execute_result"
    }
   ],
   "source": [
    "mdata2.tail(5)"
   ]
  },
  {
   "cell_type": "code",
   "execution_count": 6,
   "metadata": {},
   "outputs": [],
   "source": [
    "from datetime import datetime,date"
   ]
  },
  {
   "cell_type": "code",
   "execution_count": 7,
   "metadata": {},
   "outputs": [],
   "source": [
    "m=data[data['State/UnionTerritory']=='Maharashtra']"
   ]
  },
  {
   "cell_type": "code",
   "execution_count": 8,
   "metadata": {},
   "outputs": [
    {
     "data": {
      "text/html": [
       "<div>\n",
       "<style scoped>\n",
       "    .dataframe tbody tr th:only-of-type {\n",
       "        vertical-align: middle;\n",
       "    }\n",
       "\n",
       "    .dataframe tbody tr th {\n",
       "        vertical-align: top;\n",
       "    }\n",
       "\n",
       "    .dataframe thead th {\n",
       "        text-align: right;\n",
       "    }\n",
       "</style>\n",
       "<table border=\"1\" class=\"dataframe\">\n",
       "  <thead>\n",
       "    <tr style=\"text-align: right;\">\n",
       "      <th></th>\n",
       "      <th>Sno</th>\n",
       "      <th>Date</th>\n",
       "      <th>Time</th>\n",
       "      <th>State/UnionTerritory</th>\n",
       "      <th>ConfirmedIndianNational</th>\n",
       "      <th>ConfirmedForeignNational</th>\n",
       "      <th>Cured</th>\n",
       "      <th>Deaths</th>\n",
       "      <th>Confirmed</th>\n",
       "    </tr>\n",
       "  </thead>\n",
       "  <tbody>\n",
       "    <tr>\n",
       "      <td>2255</td>\n",
       "      <td>2256</td>\n",
       "      <td>24/05/20</td>\n",
       "      <td>8:00 AM</td>\n",
       "      <td>Maharashtra</td>\n",
       "      <td>-</td>\n",
       "      <td>-</td>\n",
       "      <td>13404</td>\n",
       "      <td>1577</td>\n",
       "      <td>47190</td>\n",
       "    </tr>\n",
       "    <tr>\n",
       "      <td>2290</td>\n",
       "      <td>2291</td>\n",
       "      <td>25/05/20</td>\n",
       "      <td>8:00 AM</td>\n",
       "      <td>Maharashtra</td>\n",
       "      <td>-</td>\n",
       "      <td>-</td>\n",
       "      <td>14600</td>\n",
       "      <td>1635</td>\n",
       "      <td>50231</td>\n",
       "    </tr>\n",
       "    <tr>\n",
       "      <td>2325</td>\n",
       "      <td>2326</td>\n",
       "      <td>26/05/20</td>\n",
       "      <td>8:00 AM</td>\n",
       "      <td>Maharashtra</td>\n",
       "      <td>-</td>\n",
       "      <td>-</td>\n",
       "      <td>15786</td>\n",
       "      <td>1695</td>\n",
       "      <td>52667</td>\n",
       "    </tr>\n",
       "    <tr>\n",
       "      <td>2361</td>\n",
       "      <td>2362</td>\n",
       "      <td>27/05/20</td>\n",
       "      <td>8:00 AM</td>\n",
       "      <td>Maharashtra</td>\n",
       "      <td>-</td>\n",
       "      <td>-</td>\n",
       "      <td>16954</td>\n",
       "      <td>1792</td>\n",
       "      <td>54758</td>\n",
       "    </tr>\n",
       "    <tr>\n",
       "      <td>2397</td>\n",
       "      <td>2398</td>\n",
       "      <td>28/05/20</td>\n",
       "      <td>8:00 AM</td>\n",
       "      <td>Maharashtra</td>\n",
       "      <td>-</td>\n",
       "      <td>-</td>\n",
       "      <td>17918</td>\n",
       "      <td>1897</td>\n",
       "      <td>56948</td>\n",
       "    </tr>\n",
       "  </tbody>\n",
       "</table>\n",
       "</div>"
      ],
      "text/plain": [
       "       Sno      Date     Time State/UnionTerritory ConfirmedIndianNational  \\\n",
       "2255  2256  24/05/20  8:00 AM          Maharashtra                       -   \n",
       "2290  2291  25/05/20  8:00 AM          Maharashtra                       -   \n",
       "2325  2326  26/05/20  8:00 AM          Maharashtra                       -   \n",
       "2361  2362  27/05/20  8:00 AM          Maharashtra                       -   \n",
       "2397  2398  28/05/20  8:00 AM          Maharashtra                       -   \n",
       "\n",
       "     ConfirmedForeignNational  Cured  Deaths  Confirmed  \n",
       "2255                        -  13404    1577      47190  \n",
       "2290                        -  14600    1635      50231  \n",
       "2325                        -  15786    1695      52667  \n",
       "2361                        -  16954    1792      54758  \n",
       "2397                        -  17918    1897      56948  "
      ]
     },
     "execution_count": 8,
     "metadata": {},
     "output_type": "execute_result"
    }
   ],
   "source": [
    "m.tail(5)"
   ]
  },
  {
   "cell_type": "code",
   "execution_count": 9,
   "metadata": {},
   "outputs": [
    {
     "name": "stderr",
     "output_type": "stream",
     "text": [
      "C:\\Users\\SUDHANSHU\\Anaconda3\\lib\\site-packages\\ipykernel_launcher.py:1: SettingWithCopyWarning: \n",
      "A value is trying to be set on a copy of a slice from a DataFrame.\n",
      "Try using .loc[row_indexer,col_indexer] = value instead\n",
      "\n",
      "See the caveats in the documentation: http://pandas.pydata.org/pandas-docs/stable/user_guide/indexing.html#returning-a-view-versus-a-copy\n",
      "  \"\"\"Entry point for launching an IPython kernel.\n",
      "C:\\Users\\SUDHANSHU\\Anaconda3\\lib\\site-packages\\ipykernel_launcher.py:2: SettingWithCopyWarning: \n",
      "A value is trying to be set on a copy of a slice from a DataFrame.\n",
      "Try using .loc[row_indexer,col_indexer] = value instead\n",
      "\n",
      "See the caveats in the documentation: http://pandas.pydata.org/pandas-docs/stable/user_guide/indexing.html#returning-a-view-versus-a-copy\n",
      "  \n"
     ]
    }
   ],
   "source": [
    "m['Date']=m['Date'].map(lambda dtt:datetime.strptime(dtt,'%d/%m/%y').strftime(\"%d,%m,%y\"))\n",
    "mdata2['Date']=mdata2['Date'].map(lambda dtt:datetime.strptime(dtt,'%m/%d/%Y').strftime(\"%d,%m,%y\"))"
   ]
  },
  {
   "cell_type": "code",
   "execution_count": 10,
   "metadata": {},
   "outputs": [
    {
     "name": "stderr",
     "output_type": "stream",
     "text": [
      "C:\\Users\\SUDHANSHU\\Anaconda3\\lib\\site-packages\\pandas\\core\\indexing.py:205: SettingWithCopyWarning: \n",
      "A value is trying to be set on a copy of a slice from a DataFrame\n",
      "\n",
      "See the caveats in the documentation: http://pandas.pydata.org/pandas-docs/stable/user_guide/indexing.html#returning-a-view-versus-a-copy\n",
      "  self._setitem_with_indexer(indexer, value)\n",
      "C:\\Users\\SUDHANSHU\\Anaconda3\\lib\\site-packages\\ipykernel_launcher.py:3: SettingWithCopyWarning: \n",
      "A value is trying to be set on a copy of a slice from a DataFrame\n",
      "\n",
      "See the caveats in the documentation: http://pandas.pydata.org/pandas-docs/stable/user_guide/indexing.html#returning-a-view-versus-a-copy\n",
      "  This is separate from the ipykernel package so we can avoid doing imports until\n",
      "C:\\Users\\SUDHANSHU\\Anaconda3\\lib\\site-packages\\ipykernel_launcher.py:5: SettingWithCopyWarning: \n",
      "A value is trying to be set on a copy of a slice from a DataFrame\n",
      "\n",
      "See the caveats in the documentation: http://pandas.pydata.org/pandas-docs/stable/user_guide/indexing.html#returning-a-view-versus-a-copy\n",
      "  \"\"\"\n"
     ]
    }
   ],
   "source": [
    "\n",
    "for e in range(len(m['Date'])):\n",
    "    \n",
    "    m['Date'].iloc[e]=abs(datetime.strptime(('29,1,20'),'%d,%m,%y')-datetime.strptime(m['Date'].iloc[e],'%d,%m,%y'))\n",
    "for e in range(len(mdata2['Date'])):\n",
    "    mdata2['Date'].iloc[e]=abs(datetime.strptime(('29,1,20'),'%d,%m,%y')-datetime.strptime(mdata2['Date'].iloc[e],'%d,%m,%y'))"
   ]
  },
  {
   "cell_type": "code",
   "execution_count": 11,
   "metadata": {},
   "outputs": [
    {
     "name": "stderr",
     "output_type": "stream",
     "text": [
      "C:\\Users\\SUDHANSHU\\Anaconda3\\lib\\site-packages\\ipykernel_launcher.py:1: SettingWithCopyWarning: \n",
      "A value is trying to be set on a copy of a slice from a DataFrame.\n",
      "Try using .loc[row_indexer,col_indexer] = value instead\n",
      "\n",
      "See the caveats in the documentation: http://pandas.pydata.org/pandas-docs/stable/user_guide/indexing.html#returning-a-view-versus-a-copy\n",
      "  \"\"\"Entry point for launching an IPython kernel.\n",
      "C:\\Users\\SUDHANSHU\\Anaconda3\\lib\\site-packages\\ipykernel_launcher.py:2: SettingWithCopyWarning: \n",
      "A value is trying to be set on a copy of a slice from a DataFrame.\n",
      "Try using .loc[row_indexer,col_indexer] = value instead\n",
      "\n",
      "See the caveats in the documentation: http://pandas.pydata.org/pandas-docs/stable/user_guide/indexing.html#returning-a-view-versus-a-copy\n",
      "  \n"
     ]
    }
   ],
   "source": [
    "m['Date']=m['Date'].map(lambda dt:str(dt).split(' ')[0])\n",
    "mdata2['Date']=mdata2['Date'].map(lambda dt:str(dt).split(' ')[0])\n"
   ]
  },
  {
   "cell_type": "code",
   "execution_count": 12,
   "metadata": {},
   "outputs": [],
   "source": [
    "mdata3=mdata2.iloc[:,[0,2]]"
   ]
  },
  {
   "cell_type": "code",
   "execution_count": 13,
   "metadata": {
    "scrolled": true
   },
   "outputs": [
    {
     "data": {
      "text/html": [
       "<div>\n",
       "<style scoped>\n",
       "    .dataframe tbody tr th:only-of-type {\n",
       "        vertical-align: middle;\n",
       "    }\n",
       "\n",
       "    .dataframe tbody tr th {\n",
       "        vertical-align: top;\n",
       "    }\n",
       "\n",
       "    .dataframe thead th {\n",
       "        text-align: right;\n",
       "    }\n",
       "</style>\n",
       "<table border=\"1\" class=\"dataframe\">\n",
       "  <thead>\n",
       "    <tr style=\"text-align: right;\">\n",
       "      <th></th>\n",
       "      <th>Date</th>\n",
       "      <th>TotalSamples</th>\n",
       "    </tr>\n",
       "  </thead>\n",
       "  <tbody>\n",
       "    <tr>\n",
       "      <td>781</td>\n",
       "      <td>67</td>\n",
       "      <td>16008</td>\n",
       "    </tr>\n",
       "    <tr>\n",
       "      <td>782</td>\n",
       "      <td>68</td>\n",
       "      <td>17563</td>\n",
       "    </tr>\n",
       "    <tr>\n",
       "      <td>783</td>\n",
       "      <td>69</td>\n",
       "      <td>20877</td>\n",
       "    </tr>\n",
       "    <tr>\n",
       "      <td>784</td>\n",
       "      <td>71</td>\n",
       "      <td>20877</td>\n",
       "    </tr>\n",
       "    <tr>\n",
       "      <td>785</td>\n",
       "      <td>72</td>\n",
       "      <td>30000</td>\n",
       "    </tr>\n",
       "    <tr>\n",
       "      <td>786</td>\n",
       "      <td>73</td>\n",
       "      <td>31841</td>\n",
       "    </tr>\n",
       "    <tr>\n",
       "      <td>787</td>\n",
       "      <td>74</td>\n",
       "      <td>35668</td>\n",
       "    </tr>\n",
       "    <tr>\n",
       "      <td>788</td>\n",
       "      <td>75</td>\n",
       "      <td>39725</td>\n",
       "    </tr>\n",
       "    <tr>\n",
       "      <td>789</td>\n",
       "      <td>76</td>\n",
       "      <td>41071</td>\n",
       "    </tr>\n",
       "    <tr>\n",
       "      <td>790</td>\n",
       "      <td>77</td>\n",
       "      <td>45142</td>\n",
       "    </tr>\n",
       "    <tr>\n",
       "      <td>791</td>\n",
       "      <td>78</td>\n",
       "      <td>50882</td>\n",
       "    </tr>\n",
       "    <tr>\n",
       "      <td>792</td>\n",
       "      <td>79</td>\n",
       "      <td>55678</td>\n",
       "    </tr>\n",
       "    <tr>\n",
       "      <td>793</td>\n",
       "      <td>80</td>\n",
       "      <td>60166</td>\n",
       "    </tr>\n",
       "    <tr>\n",
       "      <td>794</td>\n",
       "      <td>81</td>\n",
       "      <td>66796</td>\n",
       "    </tr>\n",
       "    <tr>\n",
       "      <td>795</td>\n",
       "      <td>82</td>\n",
       "      <td>71321</td>\n",
       "    </tr>\n",
       "    <tr>\n",
       "      <td>796</td>\n",
       "      <td>83</td>\n",
       "      <td>75838</td>\n",
       "    </tr>\n",
       "    <tr>\n",
       "      <td>797</td>\n",
       "      <td>84</td>\n",
       "      <td>82304</td>\n",
       "    </tr>\n",
       "    <tr>\n",
       "      <td>798</td>\n",
       "      <td>85</td>\n",
       "      <td>89197</td>\n",
       "    </tr>\n",
       "    <tr>\n",
       "      <td>799</td>\n",
       "      <td>86</td>\n",
       "      <td>95210</td>\n",
       "    </tr>\n",
       "    <tr>\n",
       "      <td>800</td>\n",
       "      <td>87</td>\n",
       "      <td>100912</td>\n",
       "    </tr>\n",
       "    <tr>\n",
       "      <td>801</td>\n",
       "      <td>88</td>\n",
       "      <td>107979</td>\n",
       "    </tr>\n",
       "    <tr>\n",
       "      <td>802</td>\n",
       "      <td>89</td>\n",
       "      <td>115147</td>\n",
       "    </tr>\n",
       "    <tr>\n",
       "      <td>803</td>\n",
       "      <td>90</td>\n",
       "      <td>120620</td>\n",
       "    </tr>\n",
       "    <tr>\n",
       "      <td>804</td>\n",
       "      <td>91</td>\n",
       "      <td>128726</td>\n",
       "    </tr>\n",
       "    <tr>\n",
       "      <td>805</td>\n",
       "      <td>92</td>\n",
       "      <td>135694</td>\n",
       "    </tr>\n",
       "    <tr>\n",
       "      <td>806</td>\n",
       "      <td>93</td>\n",
       "      <td>144159</td>\n",
       "    </tr>\n",
       "    <tr>\n",
       "      <td>807</td>\n",
       "      <td>94</td>\n",
       "      <td>151085</td>\n",
       "    </tr>\n",
       "    <tr>\n",
       "      <td>808</td>\n",
       "      <td>95</td>\n",
       "      <td>159754</td>\n",
       "    </tr>\n",
       "    <tr>\n",
       "      <td>809</td>\n",
       "      <td>96</td>\n",
       "      <td>168374</td>\n",
       "    </tr>\n",
       "    <tr>\n",
       "      <td>810</td>\n",
       "      <td>97</td>\n",
       "      <td>175323</td>\n",
       "    </tr>\n",
       "    <tr>\n",
       "      <td>811</td>\n",
       "      <td>98</td>\n",
       "      <td>181746</td>\n",
       "    </tr>\n",
       "    <tr>\n",
       "      <td>812</td>\n",
       "      <td>99</td>\n",
       "      <td>189220</td>\n",
       "    </tr>\n",
       "    <tr>\n",
       "      <td>813</td>\n",
       "      <td>100</td>\n",
       "      <td>200477</td>\n",
       "    </tr>\n",
       "    <tr>\n",
       "      <td>814</td>\n",
       "      <td>101</td>\n",
       "      <td>210174</td>\n",
       "    </tr>\n",
       "    <tr>\n",
       "      <td>815</td>\n",
       "      <td>102</td>\n",
       "      <td>225524</td>\n",
       "    </tr>\n",
       "    <tr>\n",
       "      <td>816</td>\n",
       "      <td>103</td>\n",
       "      <td>218914</td>\n",
       "    </tr>\n",
       "    <tr>\n",
       "      <td>817</td>\n",
       "      <td>104</td>\n",
       "      <td>222284</td>\n",
       "    </tr>\n",
       "    <tr>\n",
       "      <td>818</td>\n",
       "      <td>105</td>\n",
       "      <td>231061</td>\n",
       "    </tr>\n",
       "    <tr>\n",
       "      <td>819</td>\n",
       "      <td>106</td>\n",
       "      <td>240482</td>\n",
       "    </tr>\n",
       "    <tr>\n",
       "      <td>820</td>\n",
       "      <td>107</td>\n",
       "      <td>250898</td>\n",
       "    </tr>\n",
       "    <tr>\n",
       "      <td>821</td>\n",
       "      <td>108</td>\n",
       "      <td>261815</td>\n",
       "    </tr>\n",
       "    <tr>\n",
       "      <td>822</td>\n",
       "      <td>109</td>\n",
       "      <td>274040</td>\n",
       "    </tr>\n",
       "    <tr>\n",
       "      <td>823</td>\n",
       "      <td>110</td>\n",
       "      <td>282437</td>\n",
       "    </tr>\n",
       "    <tr>\n",
       "      <td>824</td>\n",
       "      <td>111</td>\n",
       "      <td>294272</td>\n",
       "    </tr>\n",
       "    <tr>\n",
       "      <td>825</td>\n",
       "      <td>112</td>\n",
       "      <td>307535</td>\n",
       "    </tr>\n",
       "    <tr>\n",
       "      <td>826</td>\n",
       "      <td>113</td>\n",
       "      <td>319921</td>\n",
       "    </tr>\n",
       "    <tr>\n",
       "      <td>827</td>\n",
       "      <td>114</td>\n",
       "      <td>333087</td>\n",
       "    </tr>\n",
       "    <tr>\n",
       "      <td>828</td>\n",
       "      <td>115</td>\n",
       "      <td>348932</td>\n",
       "    </tr>\n",
       "    <tr>\n",
       "      <td>829</td>\n",
       "      <td>116</td>\n",
       "      <td>363470</td>\n",
       "    </tr>\n",
       "    <tr>\n",
       "      <td>830</td>\n",
       "      <td>117</td>\n",
       "      <td>379185</td>\n",
       "    </tr>\n",
       "  </tbody>\n",
       "</table>\n",
       "</div>"
      ],
      "text/plain": [
       "    Date  TotalSamples\n",
       "781   67         16008\n",
       "782   68         17563\n",
       "783   69         20877\n",
       "784   71         20877\n",
       "785   72         30000\n",
       "786   73         31841\n",
       "787   74         35668\n",
       "788   75         39725\n",
       "789   76         41071\n",
       "790   77         45142\n",
       "791   78         50882\n",
       "792   79         55678\n",
       "793   80         60166\n",
       "794   81         66796\n",
       "795   82         71321\n",
       "796   83         75838\n",
       "797   84         82304\n",
       "798   85         89197\n",
       "799   86         95210\n",
       "800   87        100912\n",
       "801   88        107979\n",
       "802   89        115147\n",
       "803   90        120620\n",
       "804   91        128726\n",
       "805   92        135694\n",
       "806   93        144159\n",
       "807   94        151085\n",
       "808   95        159754\n",
       "809   96        168374\n",
       "810   97        175323\n",
       "811   98        181746\n",
       "812   99        189220\n",
       "813  100        200477\n",
       "814  101        210174\n",
       "815  102        225524\n",
       "816  103        218914\n",
       "817  104        222284\n",
       "818  105        231061\n",
       "819  106        240482\n",
       "820  107        250898\n",
       "821  108        261815\n",
       "822  109        274040\n",
       "823  110        282437\n",
       "824  111        294272\n",
       "825  112        307535\n",
       "826  113        319921\n",
       "827  114        333087\n",
       "828  115        348932\n",
       "829  116        363470\n",
       "830  117        379185"
      ]
     },
     "execution_count": 13,
     "metadata": {},
     "output_type": "execute_result"
    }
   ],
   "source": [
    "mdata3"
   ]
  },
  {
   "cell_type": "code",
   "execution_count": 15,
   "metadata": {},
   "outputs": [
    {
     "data": {
      "text/plain": [
       "str"
      ]
     },
     "execution_count": 15,
     "metadata": {},
     "output_type": "execute_result"
    }
   ],
   "source": [
    "type(mdata3['Date'].iloc[1] )"
   ]
  },
  {
   "cell_type": "code",
   "execution_count": 16,
   "metadata": {
    "collapsed": true
   },
   "outputs": [
    {
     "name": "stdout",
     "output_type": "stream",
     "text": [
      "40\n",
      "41\n",
      "42\n",
      "43\n",
      "44\n",
      "45\n",
      "46\n",
      "47\n",
      "48\n",
      "49\n",
      "50\n",
      "51\n",
      "52\n",
      "53\n",
      "54\n",
      "55\n",
      "56\n",
      "57\n",
      "58\n",
      "59\n",
      "60\n",
      "61\n",
      "62\n",
      "63\n",
      "64\n",
      "65\n",
      "66\n",
      "67\n",
      "68\n",
      "69\n",
      "70\n",
      "71\n",
      "72\n",
      "73\n",
      "74\n",
      "75\n",
      "76\n",
      "77\n",
      "78\n",
      "79\n",
      "80\n",
      "81\n",
      "82\n",
      "83\n",
      "84\n",
      "85\n",
      "86\n",
      "87\n",
      "88\n",
      "89\n",
      "90\n",
      "91\n",
      "92\n",
      "93\n",
      "94\n",
      "95\n",
      "96\n",
      "97\n",
      "98\n",
      "99\n",
      "100\n",
      "101\n",
      "102\n",
      "103\n",
      "104\n",
      "105\n",
      "106\n",
      "107\n",
      "108\n",
      "109\n",
      "110\n",
      "111\n",
      "112\n",
      "113\n",
      "114\n",
      "115\n",
      "116\n",
      "117\n",
      "118\n",
      "119\n",
      "120\n"
     ]
    }
   ],
   "source": [
    "test=[]\n",
    "for i in range(len(m['Date'])):\n",
    "\n",
    "    for j in range(len(mdata3['Date'])):\n",
    "        if m['Date'].iloc[i]==mdata3['Date'].iloc[j]:\n",
    "            test.insert(i,int(mdata3['TotalSamples'].iloc[j]))\n",
    "    else:\n",
    "        test.insert(j,0)\n",
    "        "
   ]
  },
  {
   "cell_type": "code",
   "execution_count": 19,
   "metadata": {},
   "outputs": [
    {
     "data": {
      "text/html": [
       "<div>\n",
       "<style scoped>\n",
       "    .dataframe tbody tr th:only-of-type {\n",
       "        vertical-align: middle;\n",
       "    }\n",
       "\n",
       "    .dataframe tbody tr th {\n",
       "        vertical-align: top;\n",
       "    }\n",
       "\n",
       "    .dataframe thead th {\n",
       "        text-align: right;\n",
       "    }\n",
       "</style>\n",
       "<table border=\"1\" class=\"dataframe\">\n",
       "  <thead>\n",
       "    <tr style=\"text-align: right;\">\n",
       "      <th></th>\n",
       "      <th>Sno</th>\n",
       "      <th>Date</th>\n",
       "      <th>Time</th>\n",
       "      <th>State/UnionTerritory</th>\n",
       "      <th>ConfirmedIndianNational</th>\n",
       "      <th>ConfirmedForeignNational</th>\n",
       "      <th>Cured</th>\n",
       "      <th>Deaths</th>\n",
       "      <th>Confirmed</th>\n",
       "    </tr>\n",
       "  </thead>\n",
       "  <tbody>\n",
       "    <tr>\n",
       "      <td>76</td>\n",
       "      <td>77</td>\n",
       "      <td>40</td>\n",
       "      <td>6:00 PM</td>\n",
       "      <td>Maharashtra</td>\n",
       "      <td>2</td>\n",
       "      <td>0</td>\n",
       "      <td>0</td>\n",
       "      <td>0</td>\n",
       "      <td>2</td>\n",
       "    </tr>\n",
       "    <tr>\n",
       "      <td>91</td>\n",
       "      <td>92</td>\n",
       "      <td>41</td>\n",
       "      <td>6:00 PM</td>\n",
       "      <td>Maharashtra</td>\n",
       "      <td>5</td>\n",
       "      <td>0</td>\n",
       "      <td>0</td>\n",
       "      <td>0</td>\n",
       "      <td>5</td>\n",
       "    </tr>\n",
       "    <tr>\n",
       "      <td>97</td>\n",
       "      <td>98</td>\n",
       "      <td>42</td>\n",
       "      <td>6:00 PM</td>\n",
       "      <td>Maharashtra</td>\n",
       "      <td>2</td>\n",
       "      <td>0</td>\n",
       "      <td>0</td>\n",
       "      <td>0</td>\n",
       "      <td>2</td>\n",
       "    </tr>\n",
       "    <tr>\n",
       "      <td>120</td>\n",
       "      <td>121</td>\n",
       "      <td>43</td>\n",
       "      <td>6:00 PM</td>\n",
       "      <td>Maharashtra</td>\n",
       "      <td>11</td>\n",
       "      <td>0</td>\n",
       "      <td>0</td>\n",
       "      <td>0</td>\n",
       "      <td>11</td>\n",
       "    </tr>\n",
       "    <tr>\n",
       "      <td>133</td>\n",
       "      <td>134</td>\n",
       "      <td>44</td>\n",
       "      <td>6:00 PM</td>\n",
       "      <td>Maharashtra</td>\n",
       "      <td>14</td>\n",
       "      <td>0</td>\n",
       "      <td>0</td>\n",
       "      <td>0</td>\n",
       "      <td>14</td>\n",
       "    </tr>\n",
       "  </tbody>\n",
       "</table>\n",
       "</div>"
      ],
      "text/plain": [
       "     Sno Date     Time State/UnionTerritory ConfirmedIndianNational  \\\n",
       "76    77   40  6:00 PM          Maharashtra                       2   \n",
       "91    92   41  6:00 PM          Maharashtra                       5   \n",
       "97    98   42  6:00 PM          Maharashtra                       2   \n",
       "120  121   43  6:00 PM          Maharashtra                      11   \n",
       "133  134   44  6:00 PM          Maharashtra                      14   \n",
       "\n",
       "    ConfirmedForeignNational  Cured  Deaths  Confirmed  \n",
       "76                         0      0       0          2  \n",
       "91                         0      0       0          5  \n",
       "97                         0      0       0          2  \n",
       "120                        0      0       0         11  \n",
       "133                        0      0       0         14  "
      ]
     },
     "execution_count": 19,
     "metadata": {},
     "output_type": "execute_result"
    }
   ],
   "source": [
    "m.head(5)"
   ]
  },
  {
   "cell_type": "markdown",
   "metadata": {},
   "source": [
    "# DATA ANALYSIS"
   ]
  },
  {
   "cell_type": "code",
   "execution_count": 20,
   "metadata": {},
   "outputs": [
    {
     "data": {
      "text/plain": [
       "<matplotlib.legend.Legend at 0x22522e21848>"
      ]
     },
     "execution_count": 20,
     "metadata": {},
     "output_type": "execute_result"
    },
    {
     "data": {
      "image/png": "[encoded data removed]",
      "text/plain": [
       "<Figure size 1008x576 with 1 Axes>"
      ]
     },
     "metadata": {
      "needs_background": "light"
     },
     "output_type": "display_data"
    }
   ],
   "source": [
    "fix=plt.figure(figsize=(14,8))\n",
    "plt.plot(m['Date'].iloc[::2],m['Confirmed'].iloc[::2],c='b',label='Confirmed',linewidth=3)\n",
    "plt.plot(m['Date'].iloc[::2],m['Cured'].iloc[::2],c='green',label='Cured',linewidth=3)\n",
    "plt.plot(m['Date'].iloc[::2],m['Deaths'].iloc[::2],c='r',label='Death',linewidth=3)\n",
    "plt.xlabel('NO OF DAYS PASSED')\n",
    "plt.ylabel('Cases Per Day')\n",
    "plt.legend()"
   ]
  },
  {
   "cell_type": "markdown",
   "metadata": {},
   "source": [
    "As we can see that No of cases per day is increasing Very rapidly also the No of pepople getting Cured is increasing \n",
    "at a good rate but Though we can see that Death is quite negligible but thats not the case.\n",
    "\n",
    "Lets look at it independetly.\n"
   ]
  },
  {
   "cell_type": "code",
   "execution_count": 21,
   "metadata": {},
   "outputs": [],
   "source": [
    "active=m['Confirmed']-m['Cured']"
   ]
  },
  {
   "cell_type": "code",
   "execution_count": 22,
   "metadata": {},
   "outputs": [
    {
     "data": {
      "text/plain": [
       "81"
      ]
     },
     "execution_count": 22,
     "metadata": {},
     "output_type": "execute_result"
    }
   ],
   "source": [
    "len(active)"
   ]
  },
  {
   "cell_type": "code",
   "execution_count": 23,
   "metadata": {},
   "outputs": [
    {
     "data": {
      "text/plain": [
       "<matplotlib.legend.Legend at 0x22522e8fa88>"
      ]
     },
     "execution_count": 23,
     "metadata": {},
     "output_type": "execute_result"
    },
    {
     "data": {
      "image/png": "[encoded data removed]",
      "text/plain": [
       "<Figure size 1008x576 with 1 Axes>"
      ]
     },
     "metadata": {
      "needs_background": "light"
     },
     "output_type": "display_data"
    }
   ],
   "source": [
    "fix=plt.figure(figsize=(14,8))\n",
    "plt.plot(m['Date'].iloc[::2],m['Confirmed'].iloc[::2],c='b',label='Confirmed')\n",
    "plt.plot(m['Date'].iloc[::2],active[::2],c='r',label='Active')\n",
    "plt.legend()"
   ]
  },
  {
   "cell_type": "code",
   "execution_count": 24,
   "metadata": {},
   "outputs": [
    {
     "data": {
      "text/plain": [
       "<matplotlib.legend.Legend at 0x22522f6afc8>"
      ]
     },
     "execution_count": 24,
     "metadata": {},
     "output_type": "execute_result"
    },
    {
     "data": {
      "image/png": "[encoded data removed]",
      "text/plain": [
       "<Figure size 1008x576 with 1 Axes>"
      ]
     },
     "metadata": {
      "needs_background": "light"
     },
     "output_type": "display_data"
    }
   ],
   "source": [
    "fix=plt.figure(figsize=(14,8))\n",
    "plt.plot(m['Date'].iloc[::2],m['Deaths'].iloc[::2],c='r',label='Death',linewidth=3)\n",
    "plt.xlabel('NO OF DAYS PASSED')\n",
    "plt.ylabel('Deaths  Per Day')\n",
    "plt.legend()"
   ]
  },
  {
   "cell_type": "markdown",
   "metadata": {},
   "source": [
    "As we can see that as the no of days are increasing there are more than *1750 death a Day* Whic is not at all good.\n",
    "\n"
   ]
  },
  {
   "cell_type": "markdown",
   "metadata": {},
   "source": []
  },
  {
   "cell_type": "markdown",
   "metadata": {},
   "source": [
    "# % OF PEOPLE GETTING CURRED AND DIED FROM THE COMPERMED CASES PER DAY"
   ]
  },
  {
   "cell_type": "code",
   "execution_count": 25,
   "metadata": {},
   "outputs": [
    {
     "data": {
      "text/plain": [
       "<matplotlib.legend.Legend at 0x22523047f08>"
      ]
     },
     "execution_count": 25,
     "metadata": {},
     "output_type": "execute_result"
    },
    {
     "data": {
      "image/png": "[encoded data removed]",
      "text/plain": [
       "<Figure size 1008x576 with 1 Axes>"
      ]
     },
     "metadata": {
      "needs_background": "light"
     },
     "output_type": "display_data"
    }
   ],
   "source": [
    "fix=plt.figure(figsize=(14,8))\n",
    "plt.plot(m['Date'].iloc[::2],m['Cured'].iloc[::2]/m['Confirmed'].iloc[::2],label='% Cure',linewidth=3)\n",
    "plt.plot(m['Date'].iloc[::2],m['Deaths'].iloc[::2]/m['Confirmed'].iloc[::2],label='% Death rate',linewidth=3)\n",
    "plt.legend()\n"
   ]
  },
  {
   "cell_type": "markdown",
   "metadata": {},
   "source": []
  },
  {
   "cell_type": "code",
   "execution_count": 26,
   "metadata": {},
   "outputs": [
    {
     "data": {
      "text/html": [
       "<div>\n",
       "<style scoped>\n",
       "    .dataframe tbody tr th:only-of-type {\n",
       "        vertical-align: middle;\n",
       "    }\n",
       "\n",
       "    .dataframe tbody tr th {\n",
       "        vertical-align: top;\n",
       "    }\n",
       "\n",
       "    .dataframe thead th {\n",
       "        text-align: right;\n",
       "    }\n",
       "</style>\n",
       "<table border=\"1\" class=\"dataframe\">\n",
       "  <thead>\n",
       "    <tr style=\"text-align: right;\">\n",
       "      <th></th>\n",
       "      <th>Sno</th>\n",
       "      <th>Date</th>\n",
       "      <th>Time</th>\n",
       "      <th>State/UnionTerritory</th>\n",
       "      <th>ConfirmedIndianNational</th>\n",
       "      <th>ConfirmedForeignNational</th>\n",
       "      <th>Cured</th>\n",
       "      <th>Deaths</th>\n",
       "      <th>Confirmed</th>\n",
       "    </tr>\n",
       "  </thead>\n",
       "  <tbody>\n",
       "    <tr>\n",
       "      <td>76</td>\n",
       "      <td>77</td>\n",
       "      <td>40</td>\n",
       "      <td>6:00 PM</td>\n",
       "      <td>Maharashtra</td>\n",
       "      <td>2</td>\n",
       "      <td>0</td>\n",
       "      <td>0</td>\n",
       "      <td>0</td>\n",
       "      <td>2</td>\n",
       "    </tr>\n",
       "    <tr>\n",
       "      <td>91</td>\n",
       "      <td>92</td>\n",
       "      <td>41</td>\n",
       "      <td>6:00 PM</td>\n",
       "      <td>Maharashtra</td>\n",
       "      <td>5</td>\n",
       "      <td>0</td>\n",
       "      <td>0</td>\n",
       "      <td>0</td>\n",
       "      <td>5</td>\n",
       "    </tr>\n",
       "    <tr>\n",
       "      <td>97</td>\n",
       "      <td>98</td>\n",
       "      <td>42</td>\n",
       "      <td>6:00 PM</td>\n",
       "      <td>Maharashtra</td>\n",
       "      <td>2</td>\n",
       "      <td>0</td>\n",
       "      <td>0</td>\n",
       "      <td>0</td>\n",
       "      <td>2</td>\n",
       "    </tr>\n",
       "    <tr>\n",
       "      <td>120</td>\n",
       "      <td>121</td>\n",
       "      <td>43</td>\n",
       "      <td>6:00 PM</td>\n",
       "      <td>Maharashtra</td>\n",
       "      <td>11</td>\n",
       "      <td>0</td>\n",
       "      <td>0</td>\n",
       "      <td>0</td>\n",
       "      <td>11</td>\n",
       "    </tr>\n",
       "    <tr>\n",
       "      <td>133</td>\n",
       "      <td>134</td>\n",
       "      <td>44</td>\n",
       "      <td>6:00 PM</td>\n",
       "      <td>Maharashtra</td>\n",
       "      <td>14</td>\n",
       "      <td>0</td>\n",
       "      <td>0</td>\n",
       "      <td>0</td>\n",
       "      <td>14</td>\n",
       "    </tr>\n",
       "    <tr>\n",
       "      <td>...</td>\n",
       "      <td>...</td>\n",
       "      <td>...</td>\n",
       "      <td>...</td>\n",
       "      <td>...</td>\n",
       "      <td>...</td>\n",
       "      <td>...</td>\n",
       "      <td>...</td>\n",
       "      <td>...</td>\n",
       "      <td>...</td>\n",
       "    </tr>\n",
       "    <tr>\n",
       "      <td>2255</td>\n",
       "      <td>2256</td>\n",
       "      <td>116</td>\n",
       "      <td>8:00 AM</td>\n",
       "      <td>Maharashtra</td>\n",
       "      <td>-</td>\n",
       "      <td>-</td>\n",
       "      <td>13404</td>\n",
       "      <td>1577</td>\n",
       "      <td>47190</td>\n",
       "    </tr>\n",
       "    <tr>\n",
       "      <td>2290</td>\n",
       "      <td>2291</td>\n",
       "      <td>117</td>\n",
       "      <td>8:00 AM</td>\n",
       "      <td>Maharashtra</td>\n",
       "      <td>-</td>\n",
       "      <td>-</td>\n",
       "      <td>14600</td>\n",
       "      <td>1635</td>\n",
       "      <td>50231</td>\n",
       "    </tr>\n",
       "    <tr>\n",
       "      <td>2325</td>\n",
       "      <td>2326</td>\n",
       "      <td>118</td>\n",
       "      <td>8:00 AM</td>\n",
       "      <td>Maharashtra</td>\n",
       "      <td>-</td>\n",
       "      <td>-</td>\n",
       "      <td>15786</td>\n",
       "      <td>1695</td>\n",
       "      <td>52667</td>\n",
       "    </tr>\n",
       "    <tr>\n",
       "      <td>2361</td>\n",
       "      <td>2362</td>\n",
       "      <td>119</td>\n",
       "      <td>8:00 AM</td>\n",
       "      <td>Maharashtra</td>\n",
       "      <td>-</td>\n",
       "      <td>-</td>\n",
       "      <td>16954</td>\n",
       "      <td>1792</td>\n",
       "      <td>54758</td>\n",
       "    </tr>\n",
       "    <tr>\n",
       "      <td>2397</td>\n",
       "      <td>2398</td>\n",
       "      <td>120</td>\n",
       "      <td>8:00 AM</td>\n",
       "      <td>Maharashtra</td>\n",
       "      <td>-</td>\n",
       "      <td>-</td>\n",
       "      <td>17918</td>\n",
       "      <td>1897</td>\n",
       "      <td>56948</td>\n",
       "    </tr>\n",
       "  </tbody>\n",
       "</table>\n",
       "<p>81 rows × 9 columns</p>\n",
       "</div>"
      ],
      "text/plain": [
       "       Sno Date     Time State/UnionTerritory ConfirmedIndianNational  \\\n",
       "76      77   40  6:00 PM          Maharashtra                       2   \n",
       "91      92   41  6:00 PM          Maharashtra                       5   \n",
       "97      98   42  6:00 PM          Maharashtra                       2   \n",
       "120    121   43  6:00 PM          Maharashtra                      11   \n",
       "133    134   44  6:00 PM          Maharashtra                      14   \n",
       "...    ...  ...      ...                  ...                     ...   \n",
       "2255  2256  116  8:00 AM          Maharashtra                       -   \n",
       "2290  2291  117  8:00 AM          Maharashtra                       -   \n",
       "2325  2326  118  8:00 AM          Maharashtra                       -   \n",
       "2361  2362  119  8:00 AM          Maharashtra                       -   \n",
       "2397  2398  120  8:00 AM          Maharashtra                       -   \n",
       "\n",
       "     ConfirmedForeignNational  Cured  Deaths  Confirmed  \n",
       "76                          0      0       0          2  \n",
       "91                          0      0       0          5  \n",
       "97                          0      0       0          2  \n",
       "120                         0      0       0         11  \n",
       "133                         0      0       0         14  \n",
       "...                       ...    ...     ...        ...  \n",
       "2255                        -  13404    1577      47190  \n",
       "2290                        -  14600    1635      50231  \n",
       "2325                        -  15786    1695      52667  \n",
       "2361                        -  16954    1792      54758  \n",
       "2397                        -  17918    1897      56948  \n",
       "\n",
       "[81 rows x 9 columns]"
      ]
     },
     "execution_count": 26,
     "metadata": {},
     "output_type": "execute_result"
    }
   ],
   "source": [
    "m"
   ]
  },
  {
   "cell_type": "code",
   "execution_count": 27,
   "metadata": {},
   "outputs": [],
   "source": [
    "x=(m.iloc[:,[1]]).astype(int)\n",
    "y=m.iloc[:,[-2]].astype(int)#np.array(active).reshape((len(active),1))"
   ]
  },
  {
   "cell_type": "code",
   "execution_count": 28,
   "metadata": {},
   "outputs": [
    {
     "data": {
      "text/plain": [
       "LinearRegression(copy_X=True, fit_intercept=True, n_jobs=None, normalize=False)"
      ]
     },
     "execution_count": 28,
     "metadata": {},
     "output_type": "execute_result"
    }
   ],
   "source": [
    "from sklearn.linear_model import LinearRegression\n",
    "from sklearn.preprocessing import PolynomialFeatures\n",
    "poly=PolynomialFeatures(degree=4)\n",
    "lr=LinearRegression()\n",
    "x_poly=poly.fit_transform(x)\n",
    "poly.fit(x_poly,y)\n",
    "lr.fit(x_poly,y)"
   ]
  },
  {
   "cell_type": "code",
   "execution_count": 29,
   "metadata": {},
   "outputs": [],
   "source": [
    "y_pred=lr.predict(poly.fit_transform(x))"
   ]
  },
  {
   "cell_type": "code",
   "execution_count": 30,
   "metadata": {},
   "outputs": [
    {
     "data": {
      "text/plain": [
       "[<matplotlib.lines.Line2D at 0x2252417f1c8>]"
      ]
     },
     "execution_count": 30,
     "metadata": {},
     "output_type": "execute_result"
    },
    {
     "data": {
      "image/png": "[encoded data removed]",
      "text/plain": [
       "<Figure size 432x288 with 1 Axes>"
      ]
     },
     "metadata": {
      "needs_background": "light"
     },
     "output_type": "display_data"
    }
   ],
   "source": [
    "plt.scatter(m['Date'],y)\n",
    "plt.plot(m['Date'],y_pred)"
   ]
  },
  {
   "cell_type": "markdown",
   "metadata": {},
   "source": [
    "# PREDICATION\n",
    "\n",
    "# If we didn't took any effective steps to prevent Covid_19"
   ]
  },
  {
   "cell_type": "code",
   "execution_count": 31,
   "metadata": {},
   "outputs": [
    {
     "data": {
      "text/plain": [
       "array([[1888.9110318]])"
      ]
     },
     "execution_count": 31,
     "metadata": {},
     "output_type": "execute_result"
    }
   ],
   "source": [
    "lr.predict(poly.fit_transform([[120]]))"
   ]
  },
  {
   "cell_type": "markdown",
   "metadata": {},
   "source": [
    "# ENTER THE No Of Days After which You Want to Preict the No of Death \n",
    "\n",
    "HERE THE NO OF DAYS IS CONCIDERED FROM 29 JAN 2020\n",
    "\n",
    "BELLOW WE ARE PREDECING THE NO OF DATHES ON *122th* i.e ON 30th MARCH 2020 "
   ]
  },
  {
   "cell_type": "code",
   "execution_count": 36,
   "metadata": {},
   "outputs": [],
   "source": [
    "no_of_days=122 "
   ]
  },
  {
   "cell_type": "code",
   "execution_count": 37,
   "metadata": {},
   "outputs": [
    {
     "data": {
      "text/plain": [
       "array([[2062.04607332]])"
      ]
     },
     "execution_count": 37,
     "metadata": {},
     "output_type": "execute_result"
    }
   ],
   "source": [
    "lr.predict(poly.fit_transform([[no_of_days]]))"
   ]
  },
  {
   "cell_type": "markdown",
   "metadata": {},
   "source": [
    "# Verifying From Official Data"
   ]
  },
  {
   "cell_type": "markdown",
   "metadata": {},
   "source": [
    "ON 29th MARCH WE PREDICTED-1974 deaths ,ACTUAL -1982\n",
    "\n",
    "ON30th MARCH WE PREDICTED- 2062 deaths, ACTUALL -2098\n",
    "\n",
    "THIS SHOWS THAT THE PREDICTION ARE VERY ACCURATE."
   ]
  },
  {
   "cell_type": "code",
   "execution_count": null,
   "metadata": {},
   "outputs": [],
   "source": []
  }
 ],
 "metadata": {
  "kernelspec": {
   "display_name": "Python 3",
   "language": "python",
   "name": "python3"
  },
  "language_info": {
   "codemirror_mode": {
    "name": "ipython",
    "version": 3
   },
   "file_extension": ".py",
   "mimetype": "text/x-python",
   "name": "python",
   "nbconvert_exporter": "python",
   "pygments_lexer": "ipython3",
   "version": "3.7.4"
  }
 },
 "nbformat": 4,
 "nbformat_minor": 2
}
